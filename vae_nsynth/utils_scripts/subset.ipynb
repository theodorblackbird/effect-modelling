{
 "cells": [
  {
   "cell_type": "code",
   "execution_count": 38,
   "id": "d338b1e4-234a-4e70-8cd1-01e33d3d7c06",
   "metadata": {},
   "outputs": [],
   "source": [
    "import os\n",
    "import numpy as np"
   ]
  },
  {
   "cell_type": "code",
   "execution_count": 20,
   "id": "29f67527-4de0-4c65-9109-64c44c42818d",
   "metadata": {},
   "outputs": [],
   "source": [
    "path = os.listdir(\"/fast-1/lemerle/data/nsynth-valid/audio\")"
   ]
  },
  {
   "cell_type": "code",
   "execution_count": 100,
   "id": "8729fce2-bbc6-4d9d-be2c-9b847b11e4e3",
   "metadata": {},
   "outputs": [],
   "source": [
    "s = set()\n",
    "for i in range(len(path)) :\n",
    "    instr = path[i].split(\"_\")\n",
    "    instr_0 = instr[0]\n",
    "    instr_1 = instr[1]\n",
    "    s.add(instr_0+instr_1)\n",
    "s = list(s)\n"
   ]
  },
  {
   "cell_type": "code",
   "execution_count": 103,
   "id": "532e0209-bb75-4a54-b219-83e0b62df846",
   "metadata": {},
   "outputs": [
    {
     "data": {
      "text/plain": [
       "'stringacoustic'"
      ]
     },
     "execution_count": 103,
     "metadata": {},
     "output_type": "execute_result"
    }
   ],
   "source": [
    "s[15]"
   ]
  },
  {
   "cell_type": "code",
   "execution_count": 104,
   "id": "634d756f-9c47-4be3-b383-5849ee8e2f8a",
   "metadata": {},
   "outputs": [
    {
     "data": {
      "text/plain": [
       "['keyboardacoustic', 'flutesynthetic', 'basssynthetic', 'stringacoustic']"
      ]
     },
     "execution_count": 104,
     "metadata": {},
     "output_type": "execute_result"
    }
   ],
   "source": [
    "subs = [s[0], s[3], s[10], s[15]]\n",
    "subs"
   ]
  },
  {
   "cell_type": "code",
   "execution_count": 108,
   "id": "cb57947b-b8df-475c-8f6a-a8529d61e847",
   "metadata": {},
   "outputs": [],
   "source": [
    "instr_sub = []\n",
    "for i in range(len(path)) :\n",
    "    instr = path[i].split(\"_\")\n",
    "    instr_0 = instr[0]\n",
    "    instr_1 = instr[1]\n",
    "    if instr_0 + instr_1 in subs :\n",
    "        instr_sub.append(path[i])"
   ]
  },
  {
   "cell_type": "code",
   "execution_count": 115,
   "id": "9eb459a0-9fe4-4d05-8f6a-4e5c6c6663f6",
   "metadata": {},
   "outputs": [],
   "source": [
    "with open('subs.txt', 'w') as f:\n",
    "    for i in instr_sub:\n",
    "        f.write(i+\"\\n\")"
   ]
  },
  {
   "cell_type": "code",
   "execution_count": null,
   "id": "12a4f882-d393-48d3-9350-3a3767a3c7c4",
   "metadata": {},
   "outputs": [],
   "source": [
    "organelectronic\n",
    "basssynthetic\n",
    "reedacoustic\n",
    "stringacoustic"
   ]
  }
 ],
 "metadata": {
  "kernelspec": {
   "display_name": "Python 3 (ipykernel)",
   "language": "python",
   "name": "python3"
  },
  "language_info": {
   "codemirror_mode": {
    "name": "ipython",
    "version": 3
   },
   "file_extension": ".py",
   "mimetype": "text/x-python",
   "name": "python",
   "nbconvert_exporter": "python",
   "pygments_lexer": "ipython3",
   "version": "3.9.2"
  }
 },
 "nbformat": 4,
 "nbformat_minor": 5
}
